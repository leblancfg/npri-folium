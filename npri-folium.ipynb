{
 "cells": [
  {
   "cell_type": "markdown",
   "metadata": {},
   "source": [
    "<img src=\"http://python-visualization.github.io/folium/_images/folium_logo.jpg\" width=\"100\" align=\"right\">\n",
    "In this notebook, we'll investigate the interactive mapping capabilities of the Python package called folium. In a nutshell, what folium does is provide a Python wrapper around the Javascript `leaflet.js`, which can create Google Maps-style interactive maps and visualizations for simple data needs, without writing any actual Javascript.\n",
    "\n",
    "From [folium's website](http://python-visualization.github.io/folium/):\n",
    ">folium builds on the data wrangling strengths of the Python ecosystem and the mapping strengths of the [leaflet.js library](http://leafletjs.com/). Manipulate your data in Python, then visualize it in on a Leaflet map via folium."
   ]
  },
  {
   "cell_type": "markdown",
   "metadata": {},
   "source": [
    "## First steps with Folium\n",
    "The folium interface is surprisingly high-level and easy to use."
   ]
  },
  {
   "cell_type": "code",
   "execution_count": 1,
   "metadata": {
    "ExecuteTime": {
     "end_time": "2017-10-05T20:18:15.326021Z",
     "start_time": "2017-10-05T20:18:12.951021Z"
    }
   },
   "outputs": [
    {
     "data": {
      "text/html": [
       "<div style=\"width:100%;\"><div style=\"position:relative;width:100%;height:0;padding-bottom:60%;\"><iframe src=\"data:text/html;charset=utf-8;base64,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\" style=\"position:absolute;width:100%;height:100%;left:0;top:0;border:none !important;\" allowfullscreen webkitallowfullscreen mozallowfullscreen></iframe></div></div>"
      ],
      "text/plain": [
       "<folium.folium.Map at 0x40d06d8>"
      ]
     },
     "execution_count": 1,
     "metadata": {},
     "output_type": "execute_result"
    }
   ],
   "source": [
    "import folium\n",
    "\n",
    "# Canada's centroid is apparently controversial\n",
    "# https://goo.gl/yDL8UX\n",
    "canada_centroid = [64.3176, -96.0220]\n",
    "\n",
    "m = folium.Map(\n",
    "    location=canada_centroid,  # Centre of point-of-view\n",
    "    zoom_start=3,              # Zoom level of map\n",
    "    tiles='Cartodb Positron'   # Style of basemap\n",
    ")\n",
    "\n",
    "folium.Marker(\n",
    "    location=canada_centroid,\n",
    "    popup=\"Canada Centroid\"\n",
    ").add_to(m)\n",
    "\n",
    "m"
   ]
  },
  {
   "cell_type": "code",
   "execution_count": 2,
   "metadata": {
    "ExecuteTime": {
     "end_time": "2017-10-05T20:18:15.432021Z",
     "start_time": "2017-10-05T20:18:15.329021Z"
    },
    "collapsed": true
   },
   "outputs": [],
   "source": [
    "m.save('canada.html')"
   ]
  },
  {
   "cell_type": "markdown",
   "metadata": {},
   "source": [
    "## National Pollutant Release Inventory\n",
    "From the Environment and Climate Change Canada's website:\n",
    ">The National Pollutant Release Inventory (NPRI) is Canada's legislated, publicly accessible inventory of pollutant releases (to air, water and land), disposals and transfers for recycling. It is a key resource for:\n",
    "\n",
    ">* identifying pollution prevention priorities;\n",
    ">* supporting the assessment and risk management of chemicals, and air quality modelling;\n",
    ">*  helping develop targeted regulations for reducing releases of toxic substances and air pollutants;\n",
    ">* encouraging actions to reduce the release of pollutants into the environment; and\n",
    ">* improving public understanding.\n",
    "\n",
    "The data is available through the [Open Canada Portal](http://open.canada.ca/en/open-data)."
   ]
  },
  {
   "cell_type": "code",
   "execution_count": 3,
   "metadata": {
    "ExecuteTime": {
     "end_time": "2017-10-05T20:18:18.770021Z",
     "start_time": "2017-10-05T20:18:15.440021Z"
    }
   },
   "outputs": [
    {
     "data": {
      "text/html": [
       "<div>\n",
       "<style>\n",
       "    .dataframe thead tr:only-child th {\n",
       "        text-align: right;\n",
       "    }\n",
       "\n",
       "    .dataframe thead th {\n",
       "        text-align: left;\n",
       "    }\n",
       "\n",
       "    .dataframe tbody tr th {\n",
       "        vertical-align: top;\n",
       "    }\n",
       "</style>\n",
       "<table border=\"1\" class=\"dataframe\">\n",
       "  <thead>\n",
       "    <tr style=\"text-align: right;\">\n",
       "      <th></th>\n",
       "      <th>Year of last filed report / L'année de la déclaration la plus récente</th>\n",
       "      <th>NPRI ID / ID INRP</th>\n",
       "      <th>Company Name / Raison Sociale</th>\n",
       "      <th>Facility Name / Nom de l'installation</th>\n",
       "      <th>Address line 1 / Première ligne d’adresse</th>\n",
       "      <th>Address line 2 / Deuxième ligne d’adresse</th>\n",
       "      <th>City / Ville</th>\n",
       "      <th>Province / Province</th>\n",
       "      <th>Postal Code / Code postal</th>\n",
       "      <th>Physical Land Survey Description / Description de l'arpentage</th>\n",
       "      <th>...</th>\n",
       "      <th>Census Metropolitan Area / Nom de la Région métropolitaine de recensement</th>\n",
       "      <th>Economic Region Unique ID / No unique de la Région économique</th>\n",
       "      <th>Economic Region Name / Nom de la  Région économique</th>\n",
       "      <th>Unique Ecozone ID / No unique de l’Écozone</th>\n",
       "      <th>English Ecozone Name / Nom englais de l’Écozone</th>\n",
       "      <th>French Ecozone Name / Nom français de l’Écozone</th>\n",
       "      <th>Unique ID of the Major Drainage Area from the Water Survey of Canada (WSC) / No unique de l’aire de drainage principale des Relevés hydrologiques du Canada (RHC)</th>\n",
       "      <th>Major Drainage Area English Name / Nom englais de l’aire de drainage principale</th>\n",
       "      <th>Major Drainage Area French Name / Nom français de l’aire de drainage principale</th>\n",
       "      <th>geometry</th>\n",
       "    </tr>\n",
       "  </thead>\n",
       "  <tbody>\n",
       "    <tr>\n",
       "      <th>0</th>\n",
       "      <td>2015</td>\n",
       "      <td>1</td>\n",
       "      <td>Alberta-Pacific Forest Industries Inc.</td>\n",
       "      <td>Alberta-Pacific Forest Industries Inc.</td>\n",
       "      <td>NaN</td>\n",
       "      <td>NaN</td>\n",
       "      <td>County of Athabasca</td>\n",
       "      <td>AB</td>\n",
       "      <td>T0A0M0</td>\n",
       "      <td>SW-32-068-19-W4</td>\n",
       "      <td>...</td>\n",
       "      <td>NaN</td>\n",
       "      <td>4870.0</td>\n",
       "      <td>Athabasca--Grande Prairie--Peace River</td>\n",
       "      <td>9</td>\n",
       "      <td>Boreal PLain</td>\n",
       "      <td>Plaines boréales</td>\n",
       "      <td>7.0</td>\n",
       "      <td>Great Slave Lake Drainage Area</td>\n",
       "      <td>Aire de drainage du Grand lac des Esclaves</td>\n",
       "      <td>POINT (54.923116 -112.861867)</td>\n",
       "    </tr>\n",
       "    <tr>\n",
       "      <th>1</th>\n",
       "      <td>2015</td>\n",
       "      <td>11</td>\n",
       "      <td>Hexion Canada Inc.</td>\n",
       "      <td>Hexion Canada Inc. - Edmonton Facility</td>\n",
       "      <td>12621 156th Street</td>\n",
       "      <td>NaN</td>\n",
       "      <td>Edmonton</td>\n",
       "      <td>AB</td>\n",
       "      <td>T5V1E1</td>\n",
       "      <td>NaN</td>\n",
       "      <td>...</td>\n",
       "      <td>Edmonton</td>\n",
       "      <td>4860.0</td>\n",
       "      <td>Edmonton</td>\n",
       "      <td>10</td>\n",
       "      <td>Prairie</td>\n",
       "      <td>Prairies</td>\n",
       "      <td>5.0</td>\n",
       "      <td>Nelson River Drainage Area</td>\n",
       "      <td>Aire de drainage du fleuve Nelson</td>\n",
       "      <td>POINT (53.5823 -113.5886)</td>\n",
       "    </tr>\n",
       "    <tr>\n",
       "      <th>2</th>\n",
       "      <td>2015</td>\n",
       "      <td>15</td>\n",
       "      <td>Baycoat Ltd.</td>\n",
       "      <td>Baycoat Ltd.</td>\n",
       "      <td>244 Lanark Street</td>\n",
       "      <td>NaN</td>\n",
       "      <td>Hamilton</td>\n",
       "      <td>ON</td>\n",
       "      <td>L8N3K7</td>\n",
       "      <td>NaN</td>\n",
       "      <td>...</td>\n",
       "      <td>Hamilton</td>\n",
       "      <td>3550.0</td>\n",
       "      <td>Hamilton--Niagara Peninsula</td>\n",
       "      <td>8</td>\n",
       "      <td>MixedWood Plain</td>\n",
       "      <td>Plaines à  forêts mixtes</td>\n",
       "      <td>2.0</td>\n",
       "      <td>St. Lawrence Drainage Area</td>\n",
       "      <td>Aire de drainage du Saint-Laurent</td>\n",
       "      <td>POINT (43.2428 -79.7503)</td>\n",
       "    </tr>\n",
       "    <tr>\n",
       "      <th>3</th>\n",
       "      <td>2015</td>\n",
       "      <td>21</td>\n",
       "      <td>Bolton Steel Tube Co. Ltd.</td>\n",
       "      <td>Bolton Plant</td>\n",
       "      <td>455 Piercy Road</td>\n",
       "      <td>NaN</td>\n",
       "      <td>Bolton</td>\n",
       "      <td>ON</td>\n",
       "      <td>L7E5B8</td>\n",
       "      <td>NaN</td>\n",
       "      <td>...</td>\n",
       "      <td>Toronto</td>\n",
       "      <td>3530.0</td>\n",
       "      <td>Toronto</td>\n",
       "      <td>8</td>\n",
       "      <td>MixedWood Plain</td>\n",
       "      <td>Plaines à  forêts mixtes</td>\n",
       "      <td>2.0</td>\n",
       "      <td>St. Lawrence Drainage Area</td>\n",
       "      <td>Aire de drainage du Saint-Laurent</td>\n",
       "      <td>POINT (43.8656 -79.7308)</td>\n",
       "    </tr>\n",
       "    <tr>\n",
       "      <th>4</th>\n",
       "      <td>2015</td>\n",
       "      <td>28</td>\n",
       "      <td>BASF Canada Inc.</td>\n",
       "      <td>CORNWALL SITE</td>\n",
       "      <td>501 Wallrich Avenue</td>\n",
       "      <td>NaN</td>\n",
       "      <td>Cornwall</td>\n",
       "      <td>ON</td>\n",
       "      <td>K6J2B5</td>\n",
       "      <td>NaN</td>\n",
       "      <td>...</td>\n",
       "      <td>Cornwall</td>\n",
       "      <td>3510.0</td>\n",
       "      <td>Ottawa</td>\n",
       "      <td>8</td>\n",
       "      <td>MixedWood Plain</td>\n",
       "      <td>Plaines à  forêts mixtes</td>\n",
       "      <td>2.0</td>\n",
       "      <td>St. Lawrence Drainage Area</td>\n",
       "      <td>Aire de drainage du Saint-Laurent</td>\n",
       "      <td>POINT (45.0189 -74.7551)</td>\n",
       "    </tr>\n",
       "  </tbody>\n",
       "</table>\n",
       "<p>5 rows × 30 columns</p>\n",
       "</div>"
      ],
      "text/plain": [
       "   Year of last filed report / L'année de la déclaration la plus récente  \\\n",
       "0                                               2015                       \n",
       "1                                               2015                       \n",
       "2                                               2015                       \n",
       "3                                               2015                       \n",
       "4                                               2015                       \n",
       "\n",
       "   NPRI ID / ID INRP           Company Name / Raison Sociale  \\\n",
       "0                  1  Alberta-Pacific Forest Industries Inc.   \n",
       "1                 11                      Hexion Canada Inc.   \n",
       "2                 15                            Baycoat Ltd.   \n",
       "3                 21              Bolton Steel Tube Co. Ltd.   \n",
       "4                 28                        BASF Canada Inc.   \n",
       "\n",
       "    Facility Name / Nom de l'installation  \\\n",
       "0  Alberta-Pacific Forest Industries Inc.   \n",
       "1  Hexion Canada Inc. - Edmonton Facility   \n",
       "2                            Baycoat Ltd.   \n",
       "3                            Bolton Plant   \n",
       "4                           CORNWALL SITE   \n",
       "\n",
       "  Address line 1 / Première ligne d’adresse  \\\n",
       "0                                       NaN   \n",
       "1                        12621 156th Street   \n",
       "2                         244 Lanark Street   \n",
       "3                           455 Piercy Road   \n",
       "4                       501 Wallrich Avenue   \n",
       "\n",
       "  Address line 2 / Deuxième ligne d’adresse         City / Ville  \\\n",
       "0                                       NaN  County of Athabasca   \n",
       "1                                       NaN             Edmonton   \n",
       "2                                       NaN             Hamilton   \n",
       "3                                       NaN               Bolton   \n",
       "4                                       NaN             Cornwall   \n",
       "\n",
       "  Province / Province Postal Code / Code postal  \\\n",
       "0                  AB                    T0A0M0   \n",
       "1                  AB                    T5V1E1   \n",
       "2                  ON                    L8N3K7   \n",
       "3                  ON                    L7E5B8   \n",
       "4                  ON                    K6J2B5   \n",
       "\n",
       "  Physical Land Survey Description / Description de l'arpentage  \\\n",
       "0                                    SW-32-068-19-W4              \n",
       "1                                                NaN              \n",
       "2                                                NaN              \n",
       "3                                                NaN              \n",
       "4                                                NaN              \n",
       "\n",
       "               ...                \\\n",
       "0              ...                 \n",
       "1              ...                 \n",
       "2              ...                 \n",
       "3              ...                 \n",
       "4              ...                 \n",
       "\n",
       "  Census Metropolitan Area / Nom de la Région métropolitaine de recensement  \\\n",
       "0                                                NaN                          \n",
       "1                                           Edmonton                          \n",
       "2                                           Hamilton                          \n",
       "3                                            Toronto                          \n",
       "4                                           Cornwall                          \n",
       "\n",
       "   Economic Region Unique ID / No unique de la Région économique  \\\n",
       "0                                             4870.0               \n",
       "1                                             4860.0               \n",
       "2                                             3550.0               \n",
       "3                                             3530.0               \n",
       "4                                             3510.0               \n",
       "\n",
       "   Economic Region Name / Nom de la  Région économique  \\\n",
       "0             Athabasca--Grande Prairie--Peace River     \n",
       "1                                           Edmonton     \n",
       "2                        Hamilton--Niagara Peninsula     \n",
       "3                                            Toronto     \n",
       "4                                             Ottawa     \n",
       "\n",
       "   Unique Ecozone ID / No unique de l’Écozone  \\\n",
       "0                                           9   \n",
       "1                                          10   \n",
       "2                                           8   \n",
       "3                                           8   \n",
       "4                                           8   \n",
       "\n",
       "   English Ecozone Name / Nom englais de l’Écozone  \\\n",
       "0                                     Boreal PLain   \n",
       "1                                          Prairie   \n",
       "2                                  MixedWood Plain   \n",
       "3                                  MixedWood Plain   \n",
       "4                                  MixedWood Plain   \n",
       "\n",
       "  French Ecozone Name / Nom français de l’Écozone  \\\n",
       "0                                Plaines boréales   \n",
       "1                                        Prairies   \n",
       "2                        Plaines à  forêts mixtes   \n",
       "3                        Plaines à  forêts mixtes   \n",
       "4                        Plaines à  forêts mixtes   \n",
       "\n",
       "  Unique ID of the Major Drainage Area from the Water Survey of Canada (WSC) / No unique de l’aire de drainage principale des Relevés hydrologiques du Canada (RHC)  \\\n",
       "0                                                7.0                                                                                                                  \n",
       "1                                                5.0                                                                                                                  \n",
       "2                                                2.0                                                                                                                  \n",
       "3                                                2.0                                                                                                                  \n",
       "4                                                2.0                                                                                                                  \n",
       "\n",
       "   Major Drainage Area English Name / Nom englais de l’aire de drainage principale   \\\n",
       "0                     Great Slave Lake Drainage Area                                  \n",
       "1                         Nelson River Drainage Area                                  \n",
       "2                         St. Lawrence Drainage Area                                  \n",
       "3                         St. Lawrence Drainage Area                                  \n",
       "4                         St. Lawrence Drainage Area                                  \n",
       "\n",
       "  Major Drainage Area French Name / Nom français de l’aire de drainage principale   \\\n",
       "0         Aire de drainage du Grand lac des Esclaves                                 \n",
       "1                  Aire de drainage du fleuve Nelson                                 \n",
       "2                  Aire de drainage du Saint-Laurent                                 \n",
       "3                  Aire de drainage du Saint-Laurent                                 \n",
       "4                  Aire de drainage du Saint-Laurent                                 \n",
       "\n",
       "                        geometry  \n",
       "0  POINT (54.923116 -112.861867)  \n",
       "1      POINT (53.5823 -113.5886)  \n",
       "2       POINT (43.2428 -79.7503)  \n",
       "3       POINT (43.8656 -79.7308)  \n",
       "4       POINT (45.0189 -74.7551)  \n",
       "\n",
       "[5 rows x 30 columns]"
      ]
     },
     "execution_count": 3,
     "metadata": {},
     "output_type": "execute_result"
    }
   ],
   "source": [
    "import pandas as pd\n",
    "import fiona\n",
    "import geopandas as gp\n",
    "from shapely.geometry import Point\n",
    "\n",
    "npri_url = r'http://donnees.ec.gc.ca/data/substances/plansreports/national-pollutant-release-inventory-npri-pollutant-release-and-transfer-data-reported-by-facilities/national-pollutant-release-inventory-npri-bulk-data/NPRI-Facility-Geo-Locations-Since1993.csv'\n",
    "df = pd.read_csv(npri_url)  # I am still convinced this is magic :)\n",
    "\n",
    "# The dataset has lat/long values, which we can use\n",
    "# to set Geometry for each of the rows\n",
    "df['geometry'] = df.apply(lambda z: Point(z['Latitude / Latitude'],\n",
    "                                          z['Longitude / Longitude']), axis=1)\n",
    "df = gp.GeoDataFrame(df)\n",
    "df.crs = fiona.crs.from_epsg(3347)\n",
    "df.head()"
   ]
  },
  {
   "cell_type": "markdown",
   "metadata": {},
   "source": [
    "Let's concentrate on using only the data from the latest year: 2015."
   ]
  },
  {
   "cell_type": "code",
   "execution_count": 4,
   "metadata": {
    "ExecuteTime": {
     "end_time": "2017-10-05T20:18:18.794021Z",
     "start_time": "2017-10-05T20:18:18.772021Z"
    },
    "collapsed": true
   },
   "outputs": [],
   "source": [
    "df = df[df[\"Year of last filed report / L'année de la déclaration la plus récente\"] == 2015]"
   ]
  },
  {
   "cell_type": "code",
   "execution_count": 5,
   "metadata": {
    "ExecuteTime": {
     "end_time": "2017-10-05T20:18:18.954021Z",
     "start_time": "2017-10-05T20:18:18.797021Z"
    }
   },
   "outputs": [
    {
     "name": "stdout",
     "output_type": "stream",
     "text": [
      "There are 8610 unique installations in the 2015 dataset\n"
     ]
    }
   ],
   "source": [
    "print('There are',\n",
    "      df['NPRI ID / ID INRP'].nunique(),\n",
    "      'unique installations in the 2015 dataset')"
   ]
  },
  {
   "cell_type": "markdown",
   "metadata": {},
   "source": [
    "Next, let's extract the locations and installation names so we can add them to the map as Markers."
   ]
  },
  {
   "cell_type": "code",
   "execution_count": 6,
   "metadata": {
    "ExecuteTime": {
     "end_time": "2017-10-05T20:18:19.467021Z",
     "start_time": "2017-10-05T20:18:18.958021Z"
    },
    "collapsed": true
   },
   "outputs": [],
   "source": [
    "locations = [[pt.x, pt.y] for pt in df.geometry.values]"
   ]
  },
  {
   "cell_type": "code",
   "execution_count": 7,
   "metadata": {
    "ExecuteTime": {
     "end_time": "2017-10-05T20:18:19.475021Z",
     "start_time": "2017-10-05T20:18:19.470021Z"
    },
    "collapsed": true
   },
   "outputs": [],
   "source": [
    "popups = df[\"Facility Name / Nom de l\\'installation\"].values"
   ]
  },
  {
   "cell_type": "code",
   "execution_count": 22,
   "metadata": {
    "ExecuteTime": {
     "end_time": "2017-10-05T20:31:26.283021Z",
     "start_time": "2017-10-05T20:31:25.992021Z"
    }
   },
   "outputs": [
    {
     "ename": "ValueError",
     "evalue": "No image data found. Expecting filename, url, or data.",
     "output_type": "error",
     "traceback": [
      "\u001b[1;31m---------------------------------------------------------------------------\u001b[0m",
      "\u001b[1;31mValueError\u001b[0m                                Traceback (most recent call last)",
      "\u001b[1;32m<ipython-input-22-31fc64fc21c9>\u001b[0m in \u001b[0;36m<module>\u001b[1;34m()\u001b[0m\n\u001b[0;32m     14\u001b[0m \u001b[1;33m\u001b[0m\u001b[0m\n\u001b[0;32m     15\u001b[0m \u001b[1;31m# Save static figure as png\u001b[0m\u001b[1;33m\u001b[0m\u001b[1;33m\u001b[0m\u001b[0m\n\u001b[1;32m---> 16\u001b[1;33m \u001b[0mImage\u001b[0m\u001b[1;33m(\u001b[0m\u001b[0mm\u001b[0m\u001b[1;33m.\u001b[0m\u001b[0m_repr_png_\u001b[0m\u001b[1;33m(\u001b[0m\u001b[1;33m)\u001b[0m\u001b[1;33m)\u001b[0m\u001b[1;33m\u001b[0m\u001b[0m\n\u001b[0m",
      "\u001b[1;32mC:\\Users\\Leblancfr\\AppData\\Local\\Continuum\\Anaconda3\\lib\\site-packages\\IPython\\core\\display.py\u001b[0m in \u001b[0;36m__init__\u001b[1;34m(self, data, url, filename, format, embed, width, height, retina, unconfined, metadata)\u001b[0m\n\u001b[0;32m    716\u001b[0m             \u001b[0mext\u001b[0m \u001b[1;33m=\u001b[0m \u001b[0mself\u001b[0m\u001b[1;33m.\u001b[0m\u001b[0m_find_ext\u001b[0m\u001b[1;33m(\u001b[0m\u001b[0murl\u001b[0m\u001b[1;33m)\u001b[0m\u001b[1;33m\u001b[0m\u001b[0m\n\u001b[0;32m    717\u001b[0m         \u001b[1;32melif\u001b[0m \u001b[0mdata\u001b[0m \u001b[1;32mis\u001b[0m \u001b[1;32mNone\u001b[0m\u001b[1;33m:\u001b[0m\u001b[1;33m\u001b[0m\u001b[0m\n\u001b[1;32m--> 718\u001b[1;33m             \u001b[1;32mraise\u001b[0m \u001b[0mValueError\u001b[0m\u001b[1;33m(\u001b[0m\u001b[1;34m\"No image data found. Expecting filename, url, or data.\"\u001b[0m\u001b[1;33m)\u001b[0m\u001b[1;33m\u001b[0m\u001b[0m\n\u001b[0m\u001b[0;32m    719\u001b[0m         elif isinstance(data, string_types) and (\n\u001b[0;32m    720\u001b[0m             \u001b[0mdata\u001b[0m\u001b[1;33m.\u001b[0m\u001b[0mstartswith\u001b[0m\u001b[1;33m(\u001b[0m\u001b[1;34m'http'\u001b[0m\u001b[1;33m)\u001b[0m \u001b[1;32mor\u001b[0m \u001b[0m_safe_exists\u001b[0m\u001b[1;33m(\u001b[0m\u001b[0mdata\u001b[0m\u001b[1;33m)\u001b[0m\u001b[1;33m\u001b[0m\u001b[0m\n",
      "\u001b[1;31mValueError\u001b[0m: No image data found. Expecting filename, url, or data."
     ]
    }
   ],
   "source": [
    "from folium.plugins import FastMarkerCluster\n",
    "from IPython.display import Image\n",
    "\n",
    "m = folium.Map(\n",
    "    location=canada_centroid,\n",
    "    zoom_start=3,\n",
    "    tiles='Cartodb Positron'\n",
    ")\n",
    "\n",
    "marker_cluster = FastMarkerCluster(data=locations)\n",
    "marker_cluster.add_to(m)\n",
    "folium.LayerControl().add_to(m)\n",
    "m.save('npri.html')\n",
    "\n",
    "# Save static figure as png\n",
    "Image(m._repr_png_())\n"
   ]
  },
  {
   "cell_type": "markdown",
   "metadata": {},
   "source": [
    "## Considerations\n",
    "For this simple demo, I haven't been able to make the markers have any other \"qualities\": popups, marker colours by industry type, etc. Total development time so far was only 1h.\n",
    "\n",
    "[Folium](http://python-visualization.github.io/folium/quickstart.html) still is in active development, and there are many \"bells and whistles\" that might only be added by coding the underlying Javascript code instead.\n",
    "\n",
    "On the other hand, its use for simple [\"slippy map\"](https://en.wikipedia.org/wiki/Tiled_web_map)-type visualisations is bar-none in terms of quality and ease of use."
   ]
  }
 ],
 "metadata": {
  "kernelspec": {
   "display_name": "Python 3",
   "language": "python",
   "name": "python3"
  },
  "language_info": {
   "codemirror_mode": {
    "name": "ipython",
    "version": 3
   },
   "file_extension": ".py",
   "mimetype": "text/x-python",
   "name": "python",
   "nbconvert_exporter": "python",
   "pygments_lexer": "ipython3",
   "version": "3.6.1"
  }
 },
 "nbformat": 4,
 "nbformat_minor": 2
}
